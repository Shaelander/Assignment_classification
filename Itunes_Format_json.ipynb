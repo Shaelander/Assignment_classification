{
 "cells": [
  {
   "cell_type": "code",
   "execution_count": 1,
   "metadata": {},
   "outputs": [],
   "source": [
    "import pandas as pd"
   ]
  },
  {
   "cell_type": "code",
   "execution_count": 8,
   "metadata": {},
   "outputs": [],
   "source": [
    "path = r\"C:\\Users\\shaelander.chauhan\\OneDrive - Fractal Analytics Pvt. Ltd\\Documents\\office_projects\\Assignment\\jsonformatter.json\"\n",
    "df = pd.read_json(path)"
   ]
  },
  {
   "cell_type": "code",
   "execution_count": 9,
   "metadata": {},
   "outputs": [
    {
     "data": {
      "text/html": [
       "<div>\n",
       "<style scoped>\n",
       "    .dataframe tbody tr th:only-of-type {\n",
       "        vertical-align: middle;\n",
       "    }\n",
       "\n",
       "    .dataframe tbody tr th {\n",
       "        vertical-align: top;\n",
       "    }\n",
       "\n",
       "    .dataframe thead th {\n",
       "        text-align: right;\n",
       "    }\n",
       "</style>\n",
       "<table border=\"1\" class=\"dataframe\">\n",
       "  <thead>\n",
       "    <tr style=\"text-align: right;\">\n",
       "      <th></th>\n",
       "      <th>feed</th>\n",
       "    </tr>\n",
       "  </thead>\n",
       "  <tbody>\n",
       "    <tr>\n",
       "      <th>author</th>\n",
       "      <td>{'name': {'label': 'iTunes Store'}, 'uri': {'l...</td>\n",
       "    </tr>\n",
       "    <tr>\n",
       "      <th>entry</th>\n",
       "      <td>[{'author': {'uri': {'label': 'https://itunes....</td>\n",
       "    </tr>\n",
       "    <tr>\n",
       "      <th>icon</th>\n",
       "      <td>{'label': 'http://itunes.apple.com/favicon.ico'}</td>\n",
       "    </tr>\n",
       "    <tr>\n",
       "      <th>id</th>\n",
       "      <td>{'label': 'https://mzstoreservices-int-st.itun...</td>\n",
       "    </tr>\n",
       "    <tr>\n",
       "      <th>link</th>\n",
       "      <td>[{'attributes': {'rel': 'alternate', 'type': '...</td>\n",
       "    </tr>\n",
       "    <tr>\n",
       "      <th>rights</th>\n",
       "      <td>{'label': 'Copyright 2008 Apple Inc.'}</td>\n",
       "    </tr>\n",
       "    <tr>\n",
       "      <th>title</th>\n",
       "      <td>{'label': 'iTunes Store: Customer Reviews'}</td>\n",
       "    </tr>\n",
       "    <tr>\n",
       "      <th>updated</th>\n",
       "      <td>{'label': '2024-03-05T03:26:42-07:00'}</td>\n",
       "    </tr>\n",
       "  </tbody>\n",
       "</table>\n",
       "</div>"
      ],
      "text/plain": [
       "                                                      feed\n",
       "author   {'name': {'label': 'iTunes Store'}, 'uri': {'l...\n",
       "entry    [{'author': {'uri': {'label': 'https://itunes....\n",
       "icon      {'label': 'http://itunes.apple.com/favicon.ico'}\n",
       "id       {'label': 'https://mzstoreservices-int-st.itun...\n",
       "link     [{'attributes': {'rel': 'alternate', 'type': '...\n",
       "rights              {'label': 'Copyright 2008 Apple Inc.'}\n",
       "title          {'label': 'iTunes Store: Customer Reviews'}\n",
       "updated             {'label': '2024-03-05T03:26:42-07:00'}"
      ]
     },
     "execution_count": 9,
     "metadata": {},
     "output_type": "execute_result"
    }
   ],
   "source": [
    "df"
   ]
  },
  {
   "cell_type": "code",
   "execution_count": 11,
   "metadata": {},
   "outputs": [],
   "source": [
    "import json\n",
    "with open(path, 'r', encoding='utf-8') as file:\n",
    "    data = json.load(file)\n"
   ]
  },
  {
   "cell_type": "code",
   "execution_count": 12,
   "metadata": {},
   "outputs": [],
   "source": [
    "df = pd.json_normalize(data)"
   ]
  },
  {
   "cell_type": "code",
   "execution_count": 13,
   "metadata": {},
   "outputs": [
    {
     "data": {
      "text/html": [
       "<div>\n",
       "<style scoped>\n",
       "    .dataframe tbody tr th:only-of-type {\n",
       "        vertical-align: middle;\n",
       "    }\n",
       "\n",
       "    .dataframe tbody tr th {\n",
       "        vertical-align: top;\n",
       "    }\n",
       "\n",
       "    .dataframe thead th {\n",
       "        text-align: right;\n",
       "    }\n",
       "</style>\n",
       "<table border=\"1\" class=\"dataframe\">\n",
       "  <thead>\n",
       "    <tr style=\"text-align: right;\">\n",
       "      <th></th>\n",
       "      <th>feed.author.name.label</th>\n",
       "      <th>feed.author.uri.label</th>\n",
       "      <th>feed.entry</th>\n",
       "      <th>feed.updated.label</th>\n",
       "      <th>feed.rights.label</th>\n",
       "      <th>feed.title.label</th>\n",
       "      <th>feed.icon.label</th>\n",
       "      <th>feed.link</th>\n",
       "      <th>feed.id.label</th>\n",
       "    </tr>\n",
       "  </thead>\n",
       "  <tbody>\n",
       "    <tr>\n",
       "      <th>0</th>\n",
       "      <td>iTunes Store</td>\n",
       "      <td>http://www.apple.com/itunes/</td>\n",
       "      <td>[{'author': {'uri': {'label': 'https://itunes....</td>\n",
       "      <td>2024-03-05T03:26:42-07:00</td>\n",
       "      <td>Copyright 2008 Apple Inc.</td>\n",
       "      <td>iTunes Store: Customer Reviews</td>\n",
       "      <td>http://itunes.apple.com/favicon.ico</td>\n",
       "      <td>[{'attributes': {'rel': 'alternate', 'type': '...</td>\n",
       "      <td>https://mzstoreservices-int-st.itunes.apple.co...</td>\n",
       "    </tr>\n",
       "  </tbody>\n",
       "</table>\n",
       "</div>"
      ],
      "text/plain": [
       "  feed.author.name.label         feed.author.uri.label  \\\n",
       "0           iTunes Store  http://www.apple.com/itunes/   \n",
       "\n",
       "                                          feed.entry  \\\n",
       "0  [{'author': {'uri': {'label': 'https://itunes....   \n",
       "\n",
       "          feed.updated.label          feed.rights.label  \\\n",
       "0  2024-03-05T03:26:42-07:00  Copyright 2008 Apple Inc.   \n",
       "\n",
       "                 feed.title.label                      feed.icon.label  \\\n",
       "0  iTunes Store: Customer Reviews  http://itunes.apple.com/favicon.ico   \n",
       "\n",
       "                                           feed.link  \\\n",
       "0  [{'attributes': {'rel': 'alternate', 'type': '...   \n",
       "\n",
       "                                       feed.id.label  \n",
       "0  https://mzstoreservices-int-st.itunes.apple.co...  "
      ]
     },
     "execution_count": 13,
     "metadata": {},
     "output_type": "execute_result"
    }
   ],
   "source": [
    "df"
   ]
  },
  {
   "cell_type": "code",
   "execution_count": 27,
   "metadata": {},
   "outputs": [
    {
     "data": {
      "text/plain": [
       "1"
      ]
     },
     "execution_count": 27,
     "metadata": {},
     "output_type": "execute_result"
    }
   ],
   "source": [
    "len(df['feed.link'])"
   ]
  },
  {
   "cell_type": "code",
   "execution_count": null,
   "metadata": {},
   "outputs": [],
   "source": [
    "json norm"
   ]
  }
 ],
 "metadata": {
  "kernelspec": {
   "display_name": "ds_env",
   "language": "python",
   "name": "python3"
  },
  "language_info": {
   "codemirror_mode": {
    "name": "ipython",
    "version": 3
   },
   "file_extension": ".py",
   "mimetype": "text/x-python",
   "name": "python",
   "nbconvert_exporter": "python",
   "pygments_lexer": "ipython3",
   "version": "3.11.7"
  }
 },
 "nbformat": 4,
 "nbformat_minor": 2
}
