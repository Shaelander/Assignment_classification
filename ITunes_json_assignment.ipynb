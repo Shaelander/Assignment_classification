{
 "cells": [
  {
   "cell_type": "code",
   "execution_count": 3,
   "metadata": {},
   "outputs": [],
   "source": [
    "import pandas as pd\n",
    "import json"
   ]
  },
  {
   "cell_type": "code",
   "execution_count": 1,
   "metadata": {},
   "outputs": [],
   "source": [
    "path = r\"C:\\Users\\shaelander.chauhan\\OneDrive - Fractal Analytics Pvt. Ltd\\Documents\\office_projects\\Assignment\\jsonformatter.json\"\n"
   ]
  },
  {
   "cell_type": "markdown",
   "metadata": {},
   "source": [
    "# Data 2 Preprocessing"
   ]
  },
  {
   "cell_type": "code",
   "execution_count": 4,
   "metadata": {},
   "outputs": [],
   "source": [
    "with open(path,\"r\",encoding='utf-8') as file:\n",
    "    data = json.load(file)"
   ]
  },
  {
   "cell_type": "code",
   "execution_count": 7,
   "metadata": {},
   "outputs": [
    {
     "data": {
      "text/html": [
       "<div>\n",
       "<style scoped>\n",
       "    .dataframe tbody tr th:only-of-type {\n",
       "        vertical-align: middle;\n",
       "    }\n",
       "\n",
       "    .dataframe tbody tr th {\n",
       "        vertical-align: top;\n",
       "    }\n",
       "\n",
       "    .dataframe thead th {\n",
       "        text-align: right;\n",
       "    }\n",
       "</style>\n",
       "<table border=\"1\" class=\"dataframe\">\n",
       "  <thead>\n",
       "    <tr style=\"text-align: right;\">\n",
       "      <th></th>\n",
       "      <th>feed.author.name.label</th>\n",
       "      <th>feed.author.uri.label</th>\n",
       "      <th>feed.entry</th>\n",
       "      <th>feed.updated.label</th>\n",
       "      <th>feed.rights.label</th>\n",
       "      <th>feed.title.label</th>\n",
       "      <th>feed.icon.label</th>\n",
       "      <th>feed.link</th>\n",
       "      <th>feed.id.label</th>\n",
       "    </tr>\n",
       "  </thead>\n",
       "  <tbody>\n",
       "    <tr>\n",
       "      <th>0</th>\n",
       "      <td>iTunes Store</td>\n",
       "      <td>http://www.apple.com/itunes/</td>\n",
       "      <td>[{'author': {'uri': {'label': 'https://itunes....</td>\n",
       "      <td>2024-03-05T03:26:42-07:00</td>\n",
       "      <td>Copyright 2008 Apple Inc.</td>\n",
       "      <td>iTunes Store: Customer Reviews</td>\n",
       "      <td>http://itunes.apple.com/favicon.ico</td>\n",
       "      <td>[{'attributes': {'rel': 'alternate', 'type': '...</td>\n",
       "      <td>https://mzstoreservices-int-st.itunes.apple.co...</td>\n",
       "    </tr>\n",
       "  </tbody>\n",
       "</table>\n",
       "</div>"
      ],
      "text/plain": [
       "  feed.author.name.label         feed.author.uri.label  \\\n",
       "0           iTunes Store  http://www.apple.com/itunes/   \n",
       "\n",
       "                                          feed.entry  \\\n",
       "0  [{'author': {'uri': {'label': 'https://itunes....   \n",
       "\n",
       "          feed.updated.label          feed.rights.label  \\\n",
       "0  2024-03-05T03:26:42-07:00  Copyright 2008 Apple Inc.   \n",
       "\n",
       "                 feed.title.label                      feed.icon.label  \\\n",
       "0  iTunes Store: Customer Reviews  http://itunes.apple.com/favicon.ico   \n",
       "\n",
       "                                           feed.link  \\\n",
       "0  [{'attributes': {'rel': 'alternate', 'type': '...   \n",
       "\n",
       "                                       feed.id.label  \n",
       "0  https://mzstoreservices-int-st.itunes.apple.co...  "
      ]
     },
     "execution_count": 7,
     "metadata": {},
     "output_type": "execute_result"
    }
   ],
   "source": [
    "pd.json_normalize(data,max_level=3)"
   ]
  },
  {
   "cell_type": "code",
   "execution_count": 9,
   "metadata": {},
   "outputs": [],
   "source": [
    "df_entry = pd.json_normalize(data,record_path=['feed','entry'])"
   ]
  },
  {
   "cell_type": "code",
   "execution_count": 11,
   "metadata": {},
   "outputs": [
    {
     "data": {
      "text/html": [
       "<div>\n",
       "<style scoped>\n",
       "    .dataframe tbody tr th:only-of-type {\n",
       "        vertical-align: middle;\n",
       "    }\n",
       "\n",
       "    .dataframe tbody tr th {\n",
       "        vertical-align: top;\n",
       "    }\n",
       "\n",
       "    .dataframe thead th {\n",
       "        text-align: right;\n",
       "    }\n",
       "</style>\n",
       "<table border=\"1\" class=\"dataframe\">\n",
       "  <thead>\n",
       "    <tr style=\"text-align: right;\">\n",
       "      <th></th>\n",
       "      <th>author.uri.label</th>\n",
       "      <th>author.name.label</th>\n",
       "      <th>author.label</th>\n",
       "      <th>updated.label</th>\n",
       "      <th>im:rating.label</th>\n",
       "      <th>im:version.label</th>\n",
       "      <th>id.label</th>\n",
       "      <th>title.label</th>\n",
       "      <th>content.label</th>\n",
       "      <th>content.attributes.type</th>\n",
       "      <th>link.attributes.rel</th>\n",
       "      <th>link.attributes.href</th>\n",
       "      <th>im:voteSum.label</th>\n",
       "      <th>im:contentType.attributes.term</th>\n",
       "      <th>im:contentType.attributes.label</th>\n",
       "      <th>im:voteCount.label</th>\n",
       "    </tr>\n",
       "  </thead>\n",
       "  <tbody>\n",
       "    <tr>\n",
       "      <th>0</th>\n",
       "      <td>https://itunes.apple.com/us/reviews/id1139481399</td>\n",
       "      <td>Modeldess</td>\n",
       "      <td></td>\n",
       "      <td>2024-02-27T14:59:18-07:00</td>\n",
       "      <td>5</td>\n",
       "      <td>11.2.0</td>\n",
       "      <td>10986726128</td>\n",
       "      <td>great!</td>\n",
       "      <td>everything i need is on the app and i love the...</td>\n",
       "      <td>text</td>\n",
       "      <td>related</td>\n",
       "      <td>https://itunes.apple.com/us/review?id=41602301...</td>\n",
       "      <td>0</td>\n",
       "      <td>Application</td>\n",
       "      <td>Application</td>\n",
       "      <td>0</td>\n",
       "    </tr>\n",
       "    <tr>\n",
       "      <th>1</th>\n",
       "      <td>https://itunes.apple.com/us/reviews/id1416706653</td>\n",
       "      <td>TedDaTopDawg</td>\n",
       "      <td></td>\n",
       "      <td>2024-02-27T08:29:57-07:00</td>\n",
       "      <td>5</td>\n",
       "      <td>11.2.0</td>\n",
       "      <td>10985747142</td>\n",
       "      <td>Fantastic</td>\n",
       "      <td>Great app, considerable service. Just make sur...</td>\n",
       "      <td>text</td>\n",
       "      <td>related</td>\n",
       "      <td>https://itunes.apple.com/us/review?id=41602301...</td>\n",
       "      <td>0</td>\n",
       "      <td>Application</td>\n",
       "      <td>Application</td>\n",
       "      <td>0</td>\n",
       "    </tr>\n",
       "    <tr>\n",
       "      <th>2</th>\n",
       "      <td>https://itunes.apple.com/us/reviews/id321435752</td>\n",
       "      <td>ClairePDX12</td>\n",
       "      <td></td>\n",
       "      <td>2024-02-27T06:18:40-07:00</td>\n",
       "      <td>1</td>\n",
       "      <td>11.2.0</td>\n",
       "      <td>10985336316</td>\n",
       "      <td>Nothing in this app works</td>\n",
       "      <td>Want to reach support? You’ll get an error. Wa...</td>\n",
       "      <td>text</td>\n",
       "      <td>related</td>\n",
       "      <td>https://itunes.apple.com/us/review?id=41602301...</td>\n",
       "      <td>0</td>\n",
       "      <td>Application</td>\n",
       "      <td>Application</td>\n",
       "      <td>0</td>\n",
       "    </tr>\n",
       "    <tr>\n",
       "      <th>3</th>\n",
       "      <td>https://itunes.apple.com/us/reviews/id41766821</td>\n",
       "      <td>lm23</td>\n",
       "      <td></td>\n",
       "      <td>2024-02-27T05:36:17-07:00</td>\n",
       "      <td>1</td>\n",
       "      <td>11.2.0</td>\n",
       "      <td>10985196379</td>\n",
       "      <td>Faulty app</td>\n",
       "      <td>Extremely slow. Waste of time. Just call custo...</td>\n",
       "      <td>text</td>\n",
       "      <td>related</td>\n",
       "      <td>https://itunes.apple.com/us/review?id=41602301...</td>\n",
       "      <td>0</td>\n",
       "      <td>Application</td>\n",
       "      <td>Application</td>\n",
       "      <td>0</td>\n",
       "    </tr>\n",
       "    <tr>\n",
       "      <th>4</th>\n",
       "      <td>https://itunes.apple.com/us/reviews/id431764346</td>\n",
       "      <td>rfguevara07</td>\n",
       "      <td></td>\n",
       "      <td>2024-02-26T17:47:19-07:00</td>\n",
       "      <td>1</td>\n",
       "      <td>11.2.0</td>\n",
       "      <td>10983590554</td>\n",
       "      <td>Glitchy mess that constantly crashes</td>\n",
       "      <td>Not sure how this app has any good ratings, I’...</td>\n",
       "      <td>text</td>\n",
       "      <td>related</td>\n",
       "      <td>https://itunes.apple.com/us/review?id=41602301...</td>\n",
       "      <td>0</td>\n",
       "      <td>Application</td>\n",
       "      <td>Application</td>\n",
       "      <td>0</td>\n",
       "    </tr>\n",
       "  </tbody>\n",
       "</table>\n",
       "</div>"
      ],
      "text/plain": [
       "                                   author.uri.label author.name.label  \\\n",
       "0  https://itunes.apple.com/us/reviews/id1139481399         Modeldess   \n",
       "1  https://itunes.apple.com/us/reviews/id1416706653      TedDaTopDawg   \n",
       "2   https://itunes.apple.com/us/reviews/id321435752       ClairePDX12   \n",
       "3    https://itunes.apple.com/us/reviews/id41766821              lm23   \n",
       "4   https://itunes.apple.com/us/reviews/id431764346       rfguevara07   \n",
       "\n",
       "  author.label              updated.label im:rating.label im:version.label  \\\n",
       "0               2024-02-27T14:59:18-07:00               5           11.2.0   \n",
       "1               2024-02-27T08:29:57-07:00               5           11.2.0   \n",
       "2               2024-02-27T06:18:40-07:00               1           11.2.0   \n",
       "3               2024-02-27T05:36:17-07:00               1           11.2.0   \n",
       "4               2024-02-26T17:47:19-07:00               1           11.2.0   \n",
       "\n",
       "      id.label                           title.label  \\\n",
       "0  10986726128                                great!   \n",
       "1  10985747142                             Fantastic   \n",
       "2  10985336316             Nothing in this app works   \n",
       "3  10985196379                            Faulty app   \n",
       "4  10983590554  Glitchy mess that constantly crashes   \n",
       "\n",
       "                                       content.label content.attributes.type  \\\n",
       "0  everything i need is on the app and i love the...                    text   \n",
       "1  Great app, considerable service. Just make sur...                    text   \n",
       "2  Want to reach support? You’ll get an error. Wa...                    text   \n",
       "3  Extremely slow. Waste of time. Just call custo...                    text   \n",
       "4  Not sure how this app has any good ratings, I’...                    text   \n",
       "\n",
       "  link.attributes.rel                               link.attributes.href  \\\n",
       "0             related  https://itunes.apple.com/us/review?id=41602301...   \n",
       "1             related  https://itunes.apple.com/us/review?id=41602301...   \n",
       "2             related  https://itunes.apple.com/us/review?id=41602301...   \n",
       "3             related  https://itunes.apple.com/us/review?id=41602301...   \n",
       "4             related  https://itunes.apple.com/us/review?id=41602301...   \n",
       "\n",
       "  im:voteSum.label im:contentType.attributes.term  \\\n",
       "0                0                    Application   \n",
       "1                0                    Application   \n",
       "2                0                    Application   \n",
       "3                0                    Application   \n",
       "4                0                    Application   \n",
       "\n",
       "  im:contentType.attributes.label im:voteCount.label  \n",
       "0                     Application                  0  \n",
       "1                     Application                  0  \n",
       "2                     Application                  0  \n",
       "3                     Application                  0  \n",
       "4                     Application                  0  "
      ]
     },
     "execution_count": 11,
     "metadata": {},
     "output_type": "execute_result"
    }
   ],
   "source": [
    "df_entry.head()"
   ]
  },
  {
   "cell_type": "code",
   "execution_count": 13,
   "metadata": {},
   "outputs": [],
   "source": [
    "df_links = pd.json_normalize(data, record_path=['feed','link'],record_prefix = False)"
   ]
  },
  {
   "cell_type": "code",
   "execution_count": 14,
   "metadata": {},
   "outputs": [
    {
     "data": {
      "text/html": [
       "<div>\n",
       "<style scoped>\n",
       "    .dataframe tbody tr th:only-of-type {\n",
       "        vertical-align: middle;\n",
       "    }\n",
       "\n",
       "    .dataframe tbody tr th {\n",
       "        vertical-align: top;\n",
       "    }\n",
       "\n",
       "    .dataframe thead th {\n",
       "        text-align: right;\n",
       "    }\n",
       "</style>\n",
       "<table border=\"1\" class=\"dataframe\">\n",
       "  <thead>\n",
       "    <tr style=\"text-align: right;\">\n",
       "      <th></th>\n",
       "      <th>Falseattributes.rel</th>\n",
       "      <th>Falseattributes.type</th>\n",
       "      <th>Falseattributes.href</th>\n",
       "    </tr>\n",
       "  </thead>\n",
       "  <tbody>\n",
       "    <tr>\n",
       "      <th>0</th>\n",
       "      <td>alternate</td>\n",
       "      <td>text/html</td>\n",
       "      <td>https://music.apple.com/WebObjects/MZStore.woa...</td>\n",
       "    </tr>\n",
       "    <tr>\n",
       "      <th>1</th>\n",
       "      <td>self</td>\n",
       "      <td>NaN</td>\n",
       "      <td>https://mzstoreservices-int-st.itunes.apple.co...</td>\n",
       "    </tr>\n",
       "    <tr>\n",
       "      <th>2</th>\n",
       "      <td>first</td>\n",
       "      <td>NaN</td>\n",
       "      <td>https://itunes.apple.com/us/rss/customerreview...</td>\n",
       "    </tr>\n",
       "    <tr>\n",
       "      <th>3</th>\n",
       "      <td>last</td>\n",
       "      <td>NaN</td>\n",
       "      <td>https://itunes.apple.com/us/rss/customerreview...</td>\n",
       "    </tr>\n",
       "    <tr>\n",
       "      <th>4</th>\n",
       "      <td>previous</td>\n",
       "      <td>NaN</td>\n",
       "      <td>https://itunes.apple.com/us/rss/customerreview...</td>\n",
       "    </tr>\n",
       "    <tr>\n",
       "      <th>5</th>\n",
       "      <td>next</td>\n",
       "      <td>NaN</td>\n",
       "      <td>https://itunes.apple.com/us/rss/customerreview...</td>\n",
       "    </tr>\n",
       "  </tbody>\n",
       "</table>\n",
       "</div>"
      ],
      "text/plain": [
       "  Falseattributes.rel Falseattributes.type  \\\n",
       "0           alternate            text/html   \n",
       "1                self                  NaN   \n",
       "2               first                  NaN   \n",
       "3                last                  NaN   \n",
       "4            previous                  NaN   \n",
       "5                next                  NaN   \n",
       "\n",
       "                                Falseattributes.href  \n",
       "0  https://music.apple.com/WebObjects/MZStore.woa...  \n",
       "1  https://mzstoreservices-int-st.itunes.apple.co...  \n",
       "2  https://itunes.apple.com/us/rss/customerreview...  \n",
       "3  https://itunes.apple.com/us/rss/customerreview...  \n",
       "4  https://itunes.apple.com/us/rss/customerreview...  \n",
       "5  https://itunes.apple.com/us/rss/customerreview...  "
      ]
     },
     "execution_count": 14,
     "metadata": {},
     "output_type": "execute_result"
    }
   ],
   "source": [
    "df_links"
   ]
  },
  {
   "cell_type": "markdown",
   "metadata": {},
   "source": [
    "# File 2 Interview"
   ]
  },
  {
   "cell_type": "code",
   "execution_count": 15,
   "metadata": {},
   "outputs": [],
   "source": [
    "path2 = r\"C:\\Users\\shaelander.chauhan\\OneDrive - Fractal Analytics Pvt. Ltd\\Documents\\office_projects\\file2.json\""
   ]
  },
  {
   "cell_type": "code",
   "execution_count": 17,
   "metadata": {},
   "outputs": [],
   "source": [
    "with open(path2,\"r\",encoding='utf-8') as file:\n",
    "    data2 = json.load(file)"
   ]
  },
  {
   "cell_type": "code",
   "execution_count": 20,
   "metadata": {},
   "outputs": [
    {
     "data": {
      "text/html": [
       "<div>\n",
       "<style scoped>\n",
       "    .dataframe tbody tr th:only-of-type {\n",
       "        vertical-align: middle;\n",
       "    }\n",
       "\n",
       "    .dataframe tbody tr th {\n",
       "        vertical-align: top;\n",
       "    }\n",
       "\n",
       "    .dataframe thead th {\n",
       "        text-align: right;\n",
       "    }\n",
       "</style>\n",
       "<table border=\"1\" class=\"dataframe\">\n",
       "  <thead>\n",
       "    <tr style=\"text-align: right;\">\n",
       "      <th></th>\n",
       "      <th>company</th>\n",
       "      <th>employees</th>\n",
       "    </tr>\n",
       "  </thead>\n",
       "  <tbody>\n",
       "    <tr>\n",
       "      <th>0</th>\n",
       "      <td>XYZ Corp</td>\n",
       "      <td>[{'id': 1, 'name': 'John', 'department': 'Engi...</td>\n",
       "    </tr>\n",
       "  </tbody>\n",
       "</table>\n",
       "</div>"
      ],
      "text/plain": [
       "    company                                          employees\n",
       "0  XYZ Corp  [{'id': 1, 'name': 'John', 'department': 'Engi..."
      ]
     },
     "execution_count": 20,
     "metadata": {},
     "output_type": "execute_result"
    }
   ],
   "source": [
    "pd.json_normalize(data2)"
   ]
  },
  {
   "cell_type": "code",
   "execution_count": 24,
   "metadata": {},
   "outputs": [
    {
     "data": {
      "text/html": [
       "<div>\n",
       "<style scoped>\n",
       "    .dataframe tbody tr th:only-of-type {\n",
       "        vertical-align: middle;\n",
       "    }\n",
       "\n",
       "    .dataframe tbody tr th {\n",
       "        vertical-align: top;\n",
       "    }\n",
       "\n",
       "    .dataframe thead th {\n",
       "        text-align: right;\n",
       "    }\n",
       "</style>\n",
       "<table border=\"1\" class=\"dataframe\">\n",
       "  <thead>\n",
       "    <tr style=\"text-align: right;\">\n",
       "      <th></th>\n",
       "      <th>id</th>\n",
       "      <th>name</th>\n",
       "      <th>department</th>\n",
       "      <th>projects</th>\n",
       "    </tr>\n",
       "  </thead>\n",
       "  <tbody>\n",
       "    <tr>\n",
       "      <th>0</th>\n",
       "      <td>1</td>\n",
       "      <td>John</td>\n",
       "      <td>Engineering</td>\n",
       "      <td>[{'id': 101, 'name': 'Project X'}, {'id': 102,...</td>\n",
       "    </tr>\n",
       "    <tr>\n",
       "      <th>1</th>\n",
       "      <td>2</td>\n",
       "      <td>Alice</td>\n",
       "      <td>Marketing</td>\n",
       "      <td>[{'id': 201, 'name': 'Campaign A'}]</td>\n",
       "    </tr>\n",
       "  </tbody>\n",
       "</table>\n",
       "</div>"
      ],
      "text/plain": [
       "   id   name   department                                           projects\n",
       "0   1   John  Engineering  [{'id': 101, 'name': 'Project X'}, {'id': 102,...\n",
       "1   2  Alice    Marketing                [{'id': 201, 'name': 'Campaign A'}]"
      ]
     },
     "execution_count": 24,
     "metadata": {},
     "output_type": "execute_result"
    }
   ],
   "source": [
    "pd.json_normalize(data2,record_path=['employees'])"
   ]
  },
  {
   "cell_type": "code",
   "execution_count": 27,
   "metadata": {},
   "outputs": [
    {
     "data": {
      "text/html": [
       "<div>\n",
       "<style scoped>\n",
       "    .dataframe tbody tr th:only-of-type {\n",
       "        vertical-align: middle;\n",
       "    }\n",
       "\n",
       "    .dataframe tbody tr th {\n",
       "        vertical-align: top;\n",
       "    }\n",
       "\n",
       "    .dataframe thead th {\n",
       "        text-align: right;\n",
       "    }\n",
       "</style>\n",
       "<table border=\"1\" class=\"dataframe\">\n",
       "  <thead>\n",
       "    <tr style=\"text-align: right;\">\n",
       "      <th></th>\n",
       "      <th>id</th>\n",
       "      <th>name</th>\n",
       "    </tr>\n",
       "  </thead>\n",
       "  <tbody>\n",
       "    <tr>\n",
       "      <th>0</th>\n",
       "      <td>101</td>\n",
       "      <td>Project X</td>\n",
       "    </tr>\n",
       "    <tr>\n",
       "      <th>1</th>\n",
       "      <td>102</td>\n",
       "      <td>Project Y</td>\n",
       "    </tr>\n",
       "    <tr>\n",
       "      <th>2</th>\n",
       "      <td>201</td>\n",
       "      <td>Campaign A</td>\n",
       "    </tr>\n",
       "  </tbody>\n",
       "</table>\n",
       "</div>"
      ],
      "text/plain": [
       "    id        name\n",
       "0  101   Project X\n",
       "1  102   Project Y\n",
       "2  201  Campaign A"
      ]
     },
     "execution_count": 27,
     "metadata": {},
     "output_type": "execute_result"
    }
   ],
   "source": [
    "pd.json_normalize(data2,record_path=['employees','projects'])"
   ]
  },
  {
   "cell_type": "code",
   "execution_count": 28,
   "metadata": {},
   "outputs": [],
   "source": [
    "temp = pd.json_normalize(data2,record_path=['employees'])"
   ]
  },
  {
   "cell_type": "code",
   "execution_count": 29,
   "metadata": {},
   "outputs": [],
   "source": [
    "temp['id'] = temp['projects'].apply(lambda x : [y['id'] for y in x])"
   ]
  },
  {
   "cell_type": "code",
   "execution_count": 30,
   "metadata": {},
   "outputs": [
    {
     "data": {
      "text/html": [
       "<div>\n",
       "<style scoped>\n",
       "    .dataframe tbody tr th:only-of-type {\n",
       "        vertical-align: middle;\n",
       "    }\n",
       "\n",
       "    .dataframe tbody tr th {\n",
       "        vertical-align: top;\n",
       "    }\n",
       "\n",
       "    .dataframe thead th {\n",
       "        text-align: right;\n",
       "    }\n",
       "</style>\n",
       "<table border=\"1\" class=\"dataframe\">\n",
       "  <thead>\n",
       "    <tr style=\"text-align: right;\">\n",
       "      <th></th>\n",
       "      <th>id</th>\n",
       "      <th>name</th>\n",
       "      <th>department</th>\n",
       "      <th>projects</th>\n",
       "    </tr>\n",
       "  </thead>\n",
       "  <tbody>\n",
       "    <tr>\n",
       "      <th>0</th>\n",
       "      <td>[101, 102]</td>\n",
       "      <td>John</td>\n",
       "      <td>Engineering</td>\n",
       "      <td>[{'id': 101, 'name': 'Project X'}, {'id': 102,...</td>\n",
       "    </tr>\n",
       "    <tr>\n",
       "      <th>1</th>\n",
       "      <td>[201]</td>\n",
       "      <td>Alice</td>\n",
       "      <td>Marketing</td>\n",
       "      <td>[{'id': 201, 'name': 'Campaign A'}]</td>\n",
       "    </tr>\n",
       "  </tbody>\n",
       "</table>\n",
       "</div>"
      ],
      "text/plain": [
       "           id   name   department  \\\n",
       "0  [101, 102]   John  Engineering   \n",
       "1       [201]  Alice    Marketing   \n",
       "\n",
       "                                            projects  \n",
       "0  [{'id': 101, 'name': 'Project X'}, {'id': 102,...  \n",
       "1                [{'id': 201, 'name': 'Campaign A'}]  "
      ]
     },
     "execution_count": 30,
     "metadata": {},
     "output_type": "execute_result"
    }
   ],
   "source": [
    "temp"
   ]
  },
  {
   "cell_type": "code",
   "execution_count": null,
   "metadata": {},
   "outputs": [],
   "source": []
  }
 ],
 "metadata": {
  "kernelspec": {
   "display_name": "ds_env",
   "language": "python",
   "name": "python3"
  },
  "language_info": {
   "codemirror_mode": {
    "name": "ipython",
    "version": 3
   },
   "file_extension": ".py",
   "mimetype": "text/x-python",
   "name": "python",
   "nbconvert_exporter": "python",
   "pygments_lexer": "ipython3",
   "version": "3.11.7"
  }
 },
 "nbformat": 4,
 "nbformat_minor": 2
}
